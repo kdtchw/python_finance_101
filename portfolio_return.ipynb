{
 "cells": [
  {
   "cell_type": "code",
   "execution_count": 1,
   "metadata": {},
   "outputs": [],
   "source": [
    "import numpy as np\n",
    "import pandas as pd\n",
    "from pandas_datareader import data as wb\n",
    "import matplotlib.pyplot as plt"
   ]
  },
  {
   "cell_type": "code",
   "execution_count": 2,
   "metadata": {},
   "outputs": [],
   "source": [
    "tickers = [\"PG\", \"MSFT\", \"F\", \"GE\"]"
   ]
  },
  {
   "cell_type": "code",
   "execution_count": 3,
   "metadata": {},
   "outputs": [],
   "source": [
    "mydata = pd.DataFrame()"
   ]
  },
  {
   "cell_type": "code",
   "execution_count": 6,
   "metadata": {},
   "outputs": [],
   "source": [
    "for t in tickers:\n",
    "    mydata[t] = wb.DataReader(t, data_source=\"yahoo\", start=\"1995-1-1\")[\"Adj Close\"]"
   ]
  },
  {
   "cell_type": "code",
   "execution_count": 7,
   "metadata": {},
   "outputs": [
    {
     "name": "stdout",
     "output_type": "stream",
     "text": [
      "<class 'pandas.core.frame.DataFrame'>\n",
      "DatetimeIndex: 6515 entries, 1995-01-03 to 2020-11-13\n",
      "Data columns (total 4 columns):\n",
      " #   Column  Non-Null Count  Dtype  \n",
      "---  ------  --------------  -----  \n",
      " 0   PG      6515 non-null   float64\n",
      " 1   MSFT    6515 non-null   float64\n",
      " 2   F       6515 non-null   float64\n",
      " 3   GE      6515 non-null   float64\n",
      "dtypes: float64(4)\n",
      "memory usage: 254.5 KB\n"
     ]
    }
   ],
   "source": [
    "mydata.info()"
   ]
  },
  {
   "cell_type": "code",
   "execution_count": 8,
   "metadata": {},
   "outputs": [
    {
     "data": {
      "text/html": [
       "<div>\n",
       "<style scoped>\n",
       "    .dataframe tbody tr th:only-of-type {\n",
       "        vertical-align: middle;\n",
       "    }\n",
       "\n",
       "    .dataframe tbody tr th {\n",
       "        vertical-align: top;\n",
       "    }\n",
       "\n",
       "    .dataframe thead th {\n",
       "        text-align: right;\n",
       "    }\n",
       "</style>\n",
       "<table border=\"1\" class=\"dataframe\">\n",
       "  <thead>\n",
       "    <tr style=\"text-align: right;\">\n",
       "      <th></th>\n",
       "      <th>PG</th>\n",
       "      <th>MSFT</th>\n",
       "      <th>F</th>\n",
       "      <th>GE</th>\n",
       "    </tr>\n",
       "    <tr>\n",
       "      <th>Date</th>\n",
       "      <th></th>\n",
       "      <th></th>\n",
       "      <th></th>\n",
       "      <th></th>\n",
       "    </tr>\n",
       "  </thead>\n",
       "  <tbody>\n",
       "    <tr>\n",
       "      <th>1995-01-03</th>\n",
       "      <td>8.215732</td>\n",
       "      <td>2.401030</td>\n",
       "      <td>4.242091</td>\n",
       "      <td>4.062095</td>\n",
       "    </tr>\n",
       "    <tr>\n",
       "      <th>1995-01-04</th>\n",
       "      <td>8.149876</td>\n",
       "      <td>2.418484</td>\n",
       "      <td>4.356228</td>\n",
       "      <td>4.062095</td>\n",
       "    </tr>\n",
       "    <tr>\n",
       "      <th>1995-01-05</th>\n",
       "      <td>8.034625</td>\n",
       "      <td>2.378592</td>\n",
       "      <td>4.318182</td>\n",
       "      <td>4.072051</td>\n",
       "    </tr>\n",
       "    <tr>\n",
       "      <th>1995-01-06</th>\n",
       "      <td>8.051086</td>\n",
       "      <td>2.418484</td>\n",
       "      <td>4.318182</td>\n",
       "      <td>4.052139</td>\n",
       "    </tr>\n",
       "    <tr>\n",
       "      <th>1995-01-09</th>\n",
       "      <td>8.018162</td>\n",
       "      <td>2.403525</td>\n",
       "      <td>4.394274</td>\n",
       "      <td>4.012317</td>\n",
       "    </tr>\n",
       "  </tbody>\n",
       "</table>\n",
       "</div>"
      ],
      "text/plain": [
       "                  PG      MSFT         F        GE\n",
       "Date                                              \n",
       "1995-01-03  8.215732  2.401030  4.242091  4.062095\n",
       "1995-01-04  8.149876  2.418484  4.356228  4.062095\n",
       "1995-01-05  8.034625  2.378592  4.318182  4.072051\n",
       "1995-01-06  8.051086  2.418484  4.318182  4.052139\n",
       "1995-01-09  8.018162  2.403525  4.394274  4.012317"
      ]
     },
     "execution_count": 8,
     "metadata": {},
     "output_type": "execute_result"
    }
   ],
   "source": [
    "mydata.head()"
   ]
  },
  {
   "cell_type": "code",
   "execution_count": 9,
   "metadata": {},
   "outputs": [
    {
     "data": {
      "text/html": [
       "<div>\n",
       "<style scoped>\n",
       "    .dataframe tbody tr th:only-of-type {\n",
       "        vertical-align: middle;\n",
       "    }\n",
       "\n",
       "    .dataframe tbody tr th {\n",
       "        vertical-align: top;\n",
       "    }\n",
       "\n",
       "    .dataframe thead th {\n",
       "        text-align: right;\n",
       "    }\n",
       "</style>\n",
       "<table border=\"1\" class=\"dataframe\">\n",
       "  <thead>\n",
       "    <tr style=\"text-align: right;\">\n",
       "      <th></th>\n",
       "      <th>PG</th>\n",
       "      <th>MSFT</th>\n",
       "      <th>F</th>\n",
       "      <th>GE</th>\n",
       "    </tr>\n",
       "    <tr>\n",
       "      <th>Date</th>\n",
       "      <th></th>\n",
       "      <th></th>\n",
       "      <th></th>\n",
       "      <th></th>\n",
       "    </tr>\n",
       "  </thead>\n",
       "  <tbody>\n",
       "    <tr>\n",
       "      <th>2020-11-09</th>\n",
       "      <td>137.990005</td>\n",
       "      <td>218.389999</td>\n",
       "      <td>8.2000</td>\n",
       "      <td>8.72</td>\n",
       "    </tr>\n",
       "    <tr>\n",
       "      <th>2020-11-10</th>\n",
       "      <td>140.259995</td>\n",
       "      <td>211.009995</td>\n",
       "      <td>8.3800</td>\n",
       "      <td>8.98</td>\n",
       "    </tr>\n",
       "    <tr>\n",
       "      <th>2020-11-11</th>\n",
       "      <td>142.070007</td>\n",
       "      <td>216.550003</td>\n",
       "      <td>8.3300</td>\n",
       "      <td>8.89</td>\n",
       "    </tr>\n",
       "    <tr>\n",
       "      <th>2020-11-12</th>\n",
       "      <td>142.149994</td>\n",
       "      <td>215.440002</td>\n",
       "      <td>8.2100</td>\n",
       "      <td>8.76</td>\n",
       "    </tr>\n",
       "    <tr>\n",
       "      <th>2020-11-13</th>\n",
       "      <td>142.910095</td>\n",
       "      <td>215.179993</td>\n",
       "      <td>8.4955</td>\n",
       "      <td>9.09</td>\n",
       "    </tr>\n",
       "  </tbody>\n",
       "</table>\n",
       "</div>"
      ],
      "text/plain": [
       "                    PG        MSFT       F    GE\n",
       "Date                                            \n",
       "2020-11-09  137.990005  218.389999  8.2000  8.72\n",
       "2020-11-10  140.259995  211.009995  8.3800  8.98\n",
       "2020-11-11  142.070007  216.550003  8.3300  8.89\n",
       "2020-11-12  142.149994  215.440002  8.2100  8.76\n",
       "2020-11-13  142.910095  215.179993  8.4955  9.09"
      ]
     },
     "execution_count": 9,
     "metadata": {},
     "output_type": "execute_result"
    }
   ],
   "source": [
    "mydata.tail()"
   ]
  },
  {
   "cell_type": "code",
   "execution_count": 11,
   "metadata": {},
   "outputs": [
    {
     "data": {
      "text/plain": [
       "PG      8.215732\n",
       "MSFT    2.401030\n",
       "F       4.242091\n",
       "GE      4.062095\n",
       "Name: 1995-01-03 00:00:00, dtype: float64"
      ]
     },
     "execution_count": 11,
     "metadata": {},
     "output_type": "execute_result"
    }
   ],
   "source": [
    "mydata.iloc[0]"
   ]
  },
  {
   "cell_type": "code",
   "execution_count": 17,
   "metadata": {},
   "outputs": [
    {
     "data": {
      "text/plain": [
       "PG      8.215732\n",
       "MSFT    2.401030\n",
       "F       4.242091\n",
       "GE      4.062095\n",
       "Name: 1995-01-03 00:00:00, dtype: float64"
      ]
     },
     "execution_count": 17,
     "metadata": {},
     "output_type": "execute_result"
    }
   ],
   "source": [
    "mydata.loc[\"1995-01-03\"]"
   ]
  },
  {
   "cell_type": "code",
   "execution_count": 16,
   "metadata": {},
   "outputs": [
    {
     "data": {
      "text/plain": [
       "<matplotlib.axes._subplots.AxesSubplot at 0x1edc62c0bb0>"
      ]
     },
     "execution_count": 16,
     "metadata": {},
     "output_type": "execute_result"
    },
    {
     "data": {
      "image/png": "[encoded data removed]",
      "text/plain": [
       "<Figure size 1080x432 with 1 Axes>"
      ]
     },
     "metadata": {
      "needs_background": "light"
     },
     "output_type": "display_data"
    }
   ],
   "source": [
    "(mydata / mydata.iloc[0] * 100).plot(figsize=(15,6))"
   ]
  },
  {
   "cell_type": "code",
   "execution_count": 15,
   "metadata": {},
   "outputs": [
    {
     "data": {
      "text/plain": [
       "<matplotlib.axes._subplots.AxesSubplot at 0x1edc5dbcf40>"
      ]
     },
     "execution_count": 15,
     "metadata": {},
     "output_type": "execute_result"
    },
    {
     "data": {
      "image/png": "[encoded data removed]",
      "text/plain": [
       "<Figure size 1080x432 with 1 Axes>"
      ]
     },
     "metadata": {
      "needs_background": "light"
     },
     "output_type": "display_data"
    }
   ],
   "source": [
    "mydata.plot(figsize=(15,6))"
   ]
  },
  {
   "cell_type": "code",
   "execution_count": null,
   "metadata": {},
   "outputs": [],
   "source": []
  },
  {
   "cell_type": "code",
   "execution_count": 19,
   "metadata": {},
   "outputs": [
    {
     "data": {
      "text/html": [
       "<div>\n",
       "<style scoped>\n",
       "    .dataframe tbody tr th:only-of-type {\n",
       "        vertical-align: middle;\n",
       "    }\n",
       "\n",
       "    .dataframe tbody tr th {\n",
       "        vertical-align: top;\n",
       "    }\n",
       "\n",
       "    .dataframe thead th {\n",
       "        text-align: right;\n",
       "    }\n",
       "</style>\n",
       "<table border=\"1\" class=\"dataframe\">\n",
       "  <thead>\n",
       "    <tr style=\"text-align: right;\">\n",
       "      <th></th>\n",
       "      <th>PG</th>\n",
       "      <th>MSFT</th>\n",
       "      <th>F</th>\n",
       "      <th>GE</th>\n",
       "    </tr>\n",
       "    <tr>\n",
       "      <th>Date</th>\n",
       "      <th></th>\n",
       "      <th></th>\n",
       "      <th></th>\n",
       "      <th></th>\n",
       "    </tr>\n",
       "  </thead>\n",
       "  <tbody>\n",
       "    <tr>\n",
       "      <th>1995-01-03</th>\n",
       "      <td>NaN</td>\n",
       "      <td>NaN</td>\n",
       "      <td>NaN</td>\n",
       "      <td>NaN</td>\n",
       "    </tr>\n",
       "    <tr>\n",
       "      <th>1995-01-04</th>\n",
       "      <td>-0.008016</td>\n",
       "      <td>0.007269</td>\n",
       "      <td>0.026906</td>\n",
       "      <td>0.000000</td>\n",
       "    </tr>\n",
       "    <tr>\n",
       "      <th>1995-01-05</th>\n",
       "      <td>-0.014141</td>\n",
       "      <td>-0.016495</td>\n",
       "      <td>-0.008734</td>\n",
       "      <td>0.002451</td>\n",
       "    </tr>\n",
       "    <tr>\n",
       "      <th>1995-01-06</th>\n",
       "      <td>0.002049</td>\n",
       "      <td>0.016771</td>\n",
       "      <td>0.000000</td>\n",
       "      <td>-0.004890</td>\n",
       "    </tr>\n",
       "    <tr>\n",
       "      <th>1995-01-09</th>\n",
       "      <td>-0.004089</td>\n",
       "      <td>-0.006186</td>\n",
       "      <td>0.017621</td>\n",
       "      <td>-0.009827</td>\n",
       "    </tr>\n",
       "  </tbody>\n",
       "</table>\n",
       "</div>"
      ],
      "text/plain": [
       "                  PG      MSFT         F        GE\n",
       "Date                                              \n",
       "1995-01-03       NaN       NaN       NaN       NaN\n",
       "1995-01-04 -0.008016  0.007269  0.026906  0.000000\n",
       "1995-01-05 -0.014141 -0.016495 -0.008734  0.002451\n",
       "1995-01-06  0.002049  0.016771  0.000000 -0.004890\n",
       "1995-01-09 -0.004089 -0.006186  0.017621 -0.009827"
      ]
     },
     "execution_count": 19,
     "metadata": {},
     "output_type": "execute_result"
    }
   ],
   "source": [
    "returns = (mydata / mydata.shift(1)) - 1\n",
    "returns.head()"
   ]
  },
  {
   "cell_type": "code",
   "execution_count": 20,
   "metadata": {},
   "outputs": [],
   "source": [
    "# tickers = [\"PG\", \"MSFT\", \"F\", \"GE\"]\n",
    "weights = np.array([0.25, 0.25, 0.25, 0.25])"
   ]
  },
  {
   "cell_type": "code",
   "execution_count": 21,
   "metadata": {},
   "outputs": [
    {
     "data": {
      "text/plain": [
       "array([        nan,  0.00653982, -0.00922977, ...,  0.00579266,\n",
       "       -0.00839794,  0.01914653])"
      ]
     },
     "execution_count": 21,
     "metadata": {},
     "output_type": "execute_result"
    }
   ],
   "source": [
    "np.dot(returns, weights)"
   ]
  },
  {
   "cell_type": "code",
   "execution_count": 23,
   "metadata": {},
   "outputs": [
    {
     "data": {
      "text/plain": [
       "PG      0.135335\n",
       "MSFT    0.222723\n",
       "F       0.106347\n",
       "GE      0.082170\n",
       "dtype: float64"
      ]
     },
     "execution_count": 23,
     "metadata": {},
     "output_type": "execute_result"
    }
   ],
   "source": [
    "annual_returns = returns.mean() * 250\n",
    "annual_returns"
   ]
  },
  {
   "cell_type": "code",
   "execution_count": 24,
   "metadata": {},
   "outputs": [
    {
     "data": {
      "text/plain": [
       "0.13664359768722636"
      ]
     },
     "execution_count": 24,
     "metadata": {},
     "output_type": "execute_result"
    }
   ],
   "source": [
    "np.dot(annual_returns, weights)"
   ]
  },
  {
   "cell_type": "code",
   "execution_count": 25,
   "metadata": {},
   "outputs": [],
   "source": [
    "# tickers = [\"PG\", \"MSFT\", \"F\", \"GE\"]\n",
    "weights_2 = np.array([0.4, 0.4, 0.15, 0.05])"
   ]
  },
  {
   "cell_type": "code",
   "execution_count": 31,
   "metadata": {},
   "outputs": [],
   "source": [
    "pfolio_1 = str(round(np.dot(annual_returns, weights) * 100, 5)) + \"%\"\n",
    "pfolio_2 = str(round(np.dot(annual_returns, weights_2) * 100, 5)) + \"%\""
   ]
  },
  {
   "cell_type": "code",
   "execution_count": 32,
   "metadata": {},
   "outputs": [
    {
     "name": "stdout",
     "output_type": "stream",
     "text": [
      "13.66436%\n",
      "16.32836%\n"
     ]
    }
   ],
   "source": [
    "print (pfolio_1)\n",
    "print (pfolio_2)"
   ]
  },
  {
   "cell_type": "code",
   "execution_count": null,
   "metadata": {},
   "outputs": [],
   "source": []
  }
 ],
 "metadata": {
  "kernelspec": {
   "display_name": "Python 3",
   "language": "python",
   "name": "python3"
  },
  "language_info": {
   "codemirror_mode": {
    "name": "ipython",
    "version": 3
   },
   "file_extension": ".py",
   "mimetype": "text/x-python",
   "name": "python",
   "nbconvert_exporter": "python",
   "pygments_lexer": "ipython3",
   "version": "3.8.3"
  }
 },
 "nbformat": 4,
 "nbformat_minor": 4
}

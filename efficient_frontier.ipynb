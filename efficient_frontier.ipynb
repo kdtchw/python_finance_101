{
 "cells": [
  {
   "cell_type": "code",
   "execution_count": 9,
   "metadata": {},
   "outputs": [],
   "source": [
    "import numpy as np\n",
    "import pandas as pd\n",
    "from pandas_datareader import data as wb\n",
    "import matplotlib.pyplot as plt\n",
    "%matplotlib inline"
   ]
  },
  {
   "cell_type": "code",
   "execution_count": 5,
   "metadata": {},
   "outputs": [],
   "source": [
    "assets = [\"PG\", \"^GSPC\"]"
   ]
  },
  {
   "cell_type": "code",
   "execution_count": 6,
   "metadata": {},
   "outputs": [],
   "source": [
    "pf_data = pd.DataFrame()"
   ]
  },
  {
   "cell_type": "code",
   "execution_count": 10,
   "metadata": {},
   "outputs": [],
   "source": [
    "for a in assets:\n",
    "    pf_data[a] = wb.DataReader(a, data_source=\"yahoo\", start=\"2010-1-1\")[\"Adj Close\"]"
   ]
  },
  {
   "cell_type": "code",
   "execution_count": 11,
   "metadata": {},
   "outputs": [
    {
     "name": "stdout",
     "output_type": "stream",
     "text": [
      "<class 'pandas.core.frame.DataFrame'>\n",
      "DatetimeIndex: 2738 entries, 2009-12-31 to 2020-11-13\n",
      "Data columns (total 2 columns):\n",
      " #   Column  Non-Null Count  Dtype  \n",
      "---  ------  --------------  -----  \n",
      " 0   PG      2738 non-null   float64\n",
      " 1   ^GSPC   2738 non-null   float64\n",
      "dtypes: float64(2)\n",
      "memory usage: 64.2 KB\n"
     ]
    }
   ],
   "source": [
    "pf_data.info()"
   ]
  },
  {
   "cell_type": "code",
   "execution_count": 12,
   "metadata": {},
   "outputs": [
    {
     "data": {
      "text/html": [
       "<div>\n",
       "<style scoped>\n",
       "    .dataframe tbody tr th:only-of-type {\n",
       "        vertical-align: middle;\n",
       "    }\n",
       "\n",
       "    .dataframe tbody tr th {\n",
       "        vertical-align: top;\n",
       "    }\n",
       "\n",
       "    .dataframe thead th {\n",
       "        text-align: right;\n",
       "    }\n",
       "</style>\n",
       "<table border=\"1\" class=\"dataframe\">\n",
       "  <thead>\n",
       "    <tr style=\"text-align: right;\">\n",
       "      <th></th>\n",
       "      <th>PG</th>\n",
       "      <th>^GSPC</th>\n",
       "    </tr>\n",
       "    <tr>\n",
       "      <th>Date</th>\n",
       "      <th></th>\n",
       "      <th></th>\n",
       "    </tr>\n",
       "  </thead>\n",
       "  <tbody>\n",
       "    <tr>\n",
       "      <th>2009-12-31</th>\n",
       "      <td>43.187557</td>\n",
       "      <td>1115.099976</td>\n",
       "    </tr>\n",
       "    <tr>\n",
       "      <th>2010-01-04</th>\n",
       "      <td>43.536560</td>\n",
       "      <td>1132.989990</td>\n",
       "    </tr>\n",
       "    <tr>\n",
       "      <th>2010-01-05</th>\n",
       "      <td>43.550812</td>\n",
       "      <td>1136.520020</td>\n",
       "    </tr>\n",
       "    <tr>\n",
       "      <th>2010-01-06</th>\n",
       "      <td>43.344254</td>\n",
       "      <td>1137.140015</td>\n",
       "    </tr>\n",
       "    <tr>\n",
       "      <th>2010-01-07</th>\n",
       "      <td>43.109196</td>\n",
       "      <td>1141.689941</td>\n",
       "    </tr>\n",
       "  </tbody>\n",
       "</table>\n",
       "</div>"
      ],
      "text/plain": [
       "                   PG        ^GSPC\n",
       "Date                              \n",
       "2009-12-31  43.187557  1115.099976\n",
       "2010-01-04  43.536560  1132.989990\n",
       "2010-01-05  43.550812  1136.520020\n",
       "2010-01-06  43.344254  1137.140015\n",
       "2010-01-07  43.109196  1141.689941"
      ]
     },
     "execution_count": 12,
     "metadata": {},
     "output_type": "execute_result"
    }
   ],
   "source": [
    "pf_data.head()"
   ]
  },
  {
   "cell_type": "code",
   "execution_count": 13,
   "metadata": {},
   "outputs": [
    {
     "data": {
      "text/html": [
       "<div>\n",
       "<style scoped>\n",
       "    .dataframe tbody tr th:only-of-type {\n",
       "        vertical-align: middle;\n",
       "    }\n",
       "\n",
       "    .dataframe tbody tr th {\n",
       "        vertical-align: top;\n",
       "    }\n",
       "\n",
       "    .dataframe thead th {\n",
       "        text-align: right;\n",
       "    }\n",
       "</style>\n",
       "<table border=\"1\" class=\"dataframe\">\n",
       "  <thead>\n",
       "    <tr style=\"text-align: right;\">\n",
       "      <th></th>\n",
       "      <th>PG</th>\n",
       "      <th>^GSPC</th>\n",
       "    </tr>\n",
       "    <tr>\n",
       "      <th>Date</th>\n",
       "      <th></th>\n",
       "      <th></th>\n",
       "    </tr>\n",
       "  </thead>\n",
       "  <tbody>\n",
       "    <tr>\n",
       "      <th>2020-11-09</th>\n",
       "      <td>137.990005</td>\n",
       "      <td>3550.500000</td>\n",
       "    </tr>\n",
       "    <tr>\n",
       "      <th>2020-11-10</th>\n",
       "      <td>140.259995</td>\n",
       "      <td>3545.530029</td>\n",
       "    </tr>\n",
       "    <tr>\n",
       "      <th>2020-11-11</th>\n",
       "      <td>142.070007</td>\n",
       "      <td>3572.659912</td>\n",
       "    </tr>\n",
       "    <tr>\n",
       "      <th>2020-11-12</th>\n",
       "      <td>142.149994</td>\n",
       "      <td>3537.010010</td>\n",
       "    </tr>\n",
       "    <tr>\n",
       "      <th>2020-11-13</th>\n",
       "      <td>144.279999</td>\n",
       "      <td>3585.149902</td>\n",
       "    </tr>\n",
       "  </tbody>\n",
       "</table>\n",
       "</div>"
      ],
      "text/plain": [
       "                    PG        ^GSPC\n",
       "Date                               \n",
       "2020-11-09  137.990005  3550.500000\n",
       "2020-11-10  140.259995  3545.530029\n",
       "2020-11-11  142.070007  3572.659912\n",
       "2020-11-12  142.149994  3537.010010\n",
       "2020-11-13  144.279999  3585.149902"
      ]
     },
     "execution_count": 13,
     "metadata": {},
     "output_type": "execute_result"
    }
   ],
   "source": [
    "pf_data.tail()"
   ]
  },
  {
   "cell_type": "code",
   "execution_count": 17,
   "metadata": {},
   "outputs": [
    {
     "data": {
      "text/plain": [
       "<matplotlib.axes._subplots.AxesSubplot at 0x24f01dcb0d0>"
      ]
     },
     "execution_count": 17,
     "metadata": {},
     "output_type": "execute_result"
    },
    {
     "data": {
      "image/png": "[encoded data removed]",
      "text/plain": [
       "<Figure size 720x360 with 1 Axes>"
      ]
     },
     "metadata": {
      "needs_background": "light"
     },
     "output_type": "display_data"
    }
   ],
   "source": [
    "(pf_data / pf_data.iloc[0] * 100).plot(figsize=(10, 5))"
   ]
  },
  {
   "cell_type": "code",
   "execution_count": 18,
   "metadata": {},
   "outputs": [],
   "source": [
    "log_returns = np.log(pf_data / pf_data.shift(1))"
   ]
  },
  {
   "cell_type": "code",
   "execution_count": 22,
   "metadata": {},
   "outputs": [
    {
     "data": {
      "text/plain": [
       "PG       0.110176\n",
       "^GSPC    0.106673\n",
       "dtype: float64"
      ]
     },
     "execution_count": 22,
     "metadata": {},
     "output_type": "execute_result"
    }
   ],
   "source": [
    "log_returns.mean() * 250"
   ]
  },
  {
   "cell_type": "code",
   "execution_count": 25,
   "metadata": {},
   "outputs": [
    {
     "data": {
      "text/html": [
       "<div>\n",
       "<style scoped>\n",
       "    .dataframe tbody tr th:only-of-type {\n",
       "        vertical-align: middle;\n",
       "    }\n",
       "\n",
       "    .dataframe tbody tr th {\n",
       "        vertical-align: top;\n",
       "    }\n",
       "\n",
       "    .dataframe thead th {\n",
       "        text-align: right;\n",
       "    }\n",
       "</style>\n",
       "<table border=\"1\" class=\"dataframe\">\n",
       "  <thead>\n",
       "    <tr style=\"text-align: right;\">\n",
       "      <th></th>\n",
       "      <th>PG</th>\n",
       "      <th>^GSPC</th>\n",
       "    </tr>\n",
       "  </thead>\n",
       "  <tbody>\n",
       "    <tr>\n",
       "      <th>PG</th>\n",
       "      <td>0.029399</td>\n",
       "      <td>0.017991</td>\n",
       "    </tr>\n",
       "    <tr>\n",
       "      <th>^GSPC</th>\n",
       "      <td>0.017991</td>\n",
       "      <td>0.030839</td>\n",
       "    </tr>\n",
       "  </tbody>\n",
       "</table>\n",
       "</div>"
      ],
      "text/plain": [
       "             PG     ^GSPC\n",
       "PG     0.029399  0.017991\n",
       "^GSPC  0.017991  0.030839"
      ]
     },
     "execution_count": 25,
     "metadata": {},
     "output_type": "execute_result"
    }
   ],
   "source": [
    "log_returns.cov() * 250"
   ]
  },
  {
   "cell_type": "code",
   "execution_count": 26,
   "metadata": {},
   "outputs": [
    {
     "data": {
      "text/html": [
       "<div>\n",
       "<style scoped>\n",
       "    .dataframe tbody tr th:only-of-type {\n",
       "        vertical-align: middle;\n",
       "    }\n",
       "\n",
       "    .dataframe tbody tr th {\n",
       "        vertical-align: top;\n",
       "    }\n",
       "\n",
       "    .dataframe thead th {\n",
       "        text-align: right;\n",
       "    }\n",
       "</style>\n",
       "<table border=\"1\" class=\"dataframe\">\n",
       "  <thead>\n",
       "    <tr style=\"text-align: right;\">\n",
       "      <th></th>\n",
       "      <th>PG</th>\n",
       "      <th>^GSPC</th>\n",
       "    </tr>\n",
       "  </thead>\n",
       "  <tbody>\n",
       "    <tr>\n",
       "      <th>PG</th>\n",
       "      <td>1.000000</td>\n",
       "      <td>0.597491</td>\n",
       "    </tr>\n",
       "    <tr>\n",
       "      <th>^GSPC</th>\n",
       "      <td>0.597491</td>\n",
       "      <td>1.000000</td>\n",
       "    </tr>\n",
       "  </tbody>\n",
       "</table>\n",
       "</div>"
      ],
      "text/plain": [
       "             PG     ^GSPC\n",
       "PG     1.000000  0.597491\n",
       "^GSPC  0.597491  1.000000"
      ]
     },
     "execution_count": 26,
     "metadata": {},
     "output_type": "execute_result"
    }
   ],
   "source": [
    "log_returns.corr()"
   ]
  },
  {
   "cell_type": "code",
   "execution_count": 27,
   "metadata": {},
   "outputs": [],
   "source": [
    "num_assets = len(assets)"
   ]
  },
  {
   "cell_type": "code",
   "execution_count": 30,
   "metadata": {},
   "outputs": [],
   "source": [
    "weights = np.random.random(num_assets)\n",
    "weights /= np.sum(weights)"
   ]
  },
  {
   "cell_type": "code",
   "execution_count": 31,
   "metadata": {},
   "outputs": [
    {
     "data": {
      "text/plain": [
       "array([0.18245094, 0.81754906])"
      ]
     },
     "execution_count": 31,
     "metadata": {},
     "output_type": "execute_result"
    }
   ],
   "source": [
    "weights"
   ]
  },
  {
   "cell_type": "code",
   "execution_count": null,
   "metadata": {},
   "outputs": [],
   "source": []
  },
  {
   "cell_type": "code",
   "execution_count": 32,
   "metadata": {},
   "outputs": [
    {
     "data": {
      "text/plain": [
       "0.10731208479192775"
      ]
     },
     "execution_count": 32,
     "metadata": {},
     "output_type": "execute_result"
    }
   ],
   "source": [
    "# expected portfolio return\n",
    "np.sum(weights * log_returns.mean()) * 250"
   ]
  },
  {
   "cell_type": "code",
   "execution_count": 34,
   "metadata": {},
   "outputs": [
    {
     "data": {
      "text/plain": [
       "0.026958236249645277"
      ]
     },
     "execution_count": 34,
     "metadata": {},
     "output_type": "execute_result"
    }
   ],
   "source": [
    "# expected portfolio variance\n",
    "np.dot(weights.T, np.dot(log_returns.cov() * 250, weights))"
   ]
  },
  {
   "cell_type": "code",
   "execution_count": 36,
   "metadata": {},
   "outputs": [
    {
     "data": {
      "text/plain": [
       "0.16418963502500783"
      ]
     },
     "execution_count": 36,
     "metadata": {},
     "output_type": "execute_result"
    }
   ],
   "source": [
    "# expected portfolio volatility\n",
    "np.sqrt(np.dot(weights.T, np.dot(log_returns.cov() * 250, weights)))"
   ]
  },
  {
   "cell_type": "code",
   "execution_count": null,
   "metadata": {},
   "outputs": [],
   "source": []
  },
  {
   "cell_type": "code",
   "execution_count": 44,
   "metadata": {},
   "outputs": [
    {
     "data": {
      "text/plain": [
       "(array([0.10866049, 0.10780162, 0.10895035, 0.10828721, 0.10913679,\n",
       "        0.10965705, 0.10793748, 0.10880428, 0.10982547, 0.10668429,\n",
       "        0.10868778, 0.10959927, 0.10761922, 0.1068479 , 0.10764452,\n",
       "        0.10857439, 0.11002182, 0.10867606, 0.10833008, 0.10883812,\n",
       "        0.10835355, 0.10837632, 0.10961397, 0.1093207 , 0.10721702,\n",
       "        0.10948651, 0.10897124, 0.10851099, 0.10820542, 0.10834105,\n",
       "        0.10815783, 0.10830937, 0.10931842, 0.10795347, 0.10738164,\n",
       "        0.10868692, 0.10847774, 0.10782732, 0.10921856, 0.10761202,\n",
       "        0.10955675, 0.11010522, 0.10849285, 0.10890805, 0.10704808,\n",
       "        0.10895645, 0.10841817, 0.10883715, 0.10825245, 0.10812654,\n",
       "        0.10862444, 0.10844833, 0.10851593, 0.10969087, 0.10863299,\n",
       "        0.10832399, 0.10994549, 0.10930503, 0.10873834, 0.10912021,\n",
       "        0.10862823, 0.10700851, 0.10713624, 0.10935695, 0.10857766,\n",
       "        0.10815484, 0.10810951, 0.10717478, 0.10950483, 0.1071254 ,\n",
       "        0.1086003 , 0.10837892, 0.10763605, 0.10949221, 0.1069999 ,\n",
       "        0.10768954, 0.10855321, 0.10796374, 0.10793208, 0.1087495 ,\n",
       "        0.1087612 , 0.10921805, 0.10833175, 0.10671733, 0.10712878,\n",
       "        0.10819877, 0.10888361, 0.10821892, 0.10773109, 0.10863157,\n",
       "        0.10835479, 0.10795215, 0.10919143, 0.10830277, 0.10670718,\n",
       "        0.10707683, 0.10698757, 0.10845363, 0.1088842 , 0.10928226,\n",
       "        0.1083726 , 0.10856394, 0.1075251 , 0.10953491, 0.10782477,\n",
       "        0.10846636, 0.1090335 , 0.10875318, 0.10896341, 0.10826635,\n",
       "        0.1100717 , 0.10705582, 0.10869711, 0.10744963, 0.10942904,\n",
       "        0.10776757, 0.10991258, 0.10911492, 0.10842422, 0.10938498,\n",
       "        0.10969226, 0.10843835, 0.10854728, 0.10979302, 0.10792454,\n",
       "        0.10809737, 0.10772714, 0.1084835 , 0.10793396, 0.10867238,\n",
       "        0.10772645, 0.10994934, 0.10845169, 0.10762768, 0.10691991,\n",
       "        0.10709779, 0.1067456 , 0.10861135, 0.10781375, 0.10858912,\n",
       "        0.10787711, 0.10864034, 0.10862616, 0.11010033, 0.10716655,\n",
       "        0.10799724, 0.10784365, 0.10965971, 0.10884811, 0.10852213,\n",
       "        0.10838668, 0.10801174, 0.10845851, 0.10998789, 0.10821878,\n",
       "        0.10894455, 0.10741183, 0.10929024, 0.11008361, 0.10939808,\n",
       "        0.10786116, 0.1069946 , 0.10884076, 0.10851147, 0.10841267,\n",
       "        0.10853083, 0.10862628, 0.10845307, 0.10750607, 0.10903581,\n",
       "        0.10992788, 0.1080341 , 0.10772789, 0.1068671 , 0.10834445,\n",
       "        0.108467  , 0.10882784, 0.10880714, 0.10748989, 0.10670951,\n",
       "        0.10772118, 0.10963351, 0.10879129, 0.10943332, 0.11014135,\n",
       "        0.10924886, 0.10895838, 0.10824629, 0.1071988 , 0.10796211,\n",
       "        0.10900751, 0.10937342, 0.10717626, 0.10786321, 0.10895229,\n",
       "        0.10883874, 0.10738483, 0.10916621, 0.11010442, 0.11017483,\n",
       "        0.1095826 , 0.10873338, 0.10940986, 0.108153  , 0.10685286,\n",
       "        0.10924251, 0.10930045, 0.10893693, 0.1075583 , 0.1073461 ,\n",
       "        0.10859103, 0.10920561, 0.10912754, 0.10694354, 0.10892493,\n",
       "        0.10777707, 0.10846618, 0.10829209, 0.10696008, 0.10868764,\n",
       "        0.10938731, 0.10751255, 0.10946368, 0.10900606, 0.10918166,\n",
       "        0.10882651, 0.10715337, 0.10962305, 0.10849078, 0.10835365,\n",
       "        0.10743847, 0.10808514, 0.1077218 , 0.1077724 , 0.10730054,\n",
       "        0.10794871, 0.10750432, 0.10878913, 0.10841542, 0.10808912,\n",
       "        0.10855707, 0.10771475, 0.10844086, 0.10999328, 0.10908164,\n",
       "        0.10819797, 0.10849303, 0.10760715, 0.10794091, 0.10832595,\n",
       "        0.11005617, 0.10889032, 0.10706725, 0.1083778 , 0.10928015,\n",
       "        0.10819223, 0.1084719 , 0.1088741 , 0.10947211, 0.10723696,\n",
       "        0.10874411, 0.10810703, 0.10797291, 0.10890699, 0.1082814 ,\n",
       "        0.10970028, 0.10907616, 0.10732152, 0.10859395, 0.10974554,\n",
       "        0.10711632, 0.1079105 , 0.10847653, 0.10918409, 0.1083009 ,\n",
       "        0.10855615, 0.10861688, 0.10992072, 0.10782811, 0.10848734,\n",
       "        0.10816615, 0.10929666, 0.10950671, 0.10841299, 0.10717173,\n",
       "        0.10850387, 0.10810623, 0.10727789, 0.10788137, 0.10891272,\n",
       "        0.10913415, 0.1085355 , 0.10750031, 0.10804182, 0.10937495,\n",
       "        0.10746196, 0.10871937, 0.10783022, 0.10814061, 0.10917897,\n",
       "        0.10769068, 0.10840867, 0.10940101, 0.10956222, 0.1076727 ,\n",
       "        0.10903788, 0.10768855, 0.10847576, 0.10710355, 0.10770636,\n",
       "        0.10703392, 0.10908107, 0.1082153 , 0.10902491, 0.1085937 ,\n",
       "        0.10845438, 0.10810761, 0.10917293, 0.10770918, 0.10881005,\n",
       "        0.10970543, 0.10844207, 0.10722407, 0.10891514, 0.10743062,\n",
       "        0.1076759 , 0.10931075, 0.10826737, 0.10946929, 0.10860839,\n",
       "        0.10944353, 0.10865664, 0.10992191, 0.10767944, 0.10982854,\n",
       "        0.1085462 , 0.10967357, 0.1088685 , 0.10881874, 0.10908473,\n",
       "        0.10800031, 0.10911318, 0.107242  , 0.10918881, 0.1074904 ,\n",
       "        0.1094847 , 0.10851679, 0.10808781, 0.11013137, 0.10790655,\n",
       "        0.10857825, 0.10793279, 0.10875713, 0.10789921, 0.10750608,\n",
       "        0.10906921, 0.10784192, 0.10758839, 0.10974395, 0.1078378 ,\n",
       "        0.10810625, 0.10881638, 0.10724864, 0.10669102, 0.10673095,\n",
       "        0.10997014, 0.10938421, 0.10985006, 0.10708924, 0.10723424,\n",
       "        0.10807034, 0.10739254, 0.10945812, 0.1074927 , 0.1079003 ,\n",
       "        0.10921672, 0.1083972 , 0.10944101, 0.10774016, 0.10898252,\n",
       "        0.10837846, 0.10883764, 0.10941805, 0.10684718, 0.10889396,\n",
       "        0.10921479, 0.10919328, 0.10863648, 0.10753798, 0.10888808,\n",
       "        0.10715908, 0.10845998, 0.10671524, 0.10849597, 0.10810842,\n",
       "        0.10879372, 0.10848419, 0.1079663 , 0.1083061 , 0.10851284,\n",
       "        0.10774397, 0.10896189, 0.10862532, 0.1080136 , 0.10871514,\n",
       "        0.1098808 , 0.10795188, 0.10828026, 0.10709766, 0.10850604,\n",
       "        0.10684865, 0.10865711, 0.10767641, 0.10777416, 0.10933457,\n",
       "        0.10838052, 0.10941647, 0.1091988 , 0.10940335, 0.1094496 ,\n",
       "        0.10907005, 0.10705342, 0.10891439, 0.10830622, 0.10846148,\n",
       "        0.10692698, 0.11011335, 0.10669011, 0.10733656, 0.10679123,\n",
       "        0.10727975, 0.10946373, 0.1077323 , 0.10854509, 0.10887386,\n",
       "        0.1100458 , 0.10760829, 0.10826193, 0.10816989, 0.10752718,\n",
       "        0.10746175, 0.10802695, 0.10867747, 0.10761772, 0.10908564,\n",
       "        0.10839827, 0.1085024 , 0.10880599, 0.10819143, 0.10919767,\n",
       "        0.10745077, 0.10769793, 0.10776303, 0.10826105, 0.10675769,\n",
       "        0.10890076, 0.10820439, 0.10753676, 0.10776097, 0.10817416,\n",
       "        0.10830807, 0.10703926, 0.10992295, 0.10869571, 0.10839966,\n",
       "        0.10887627, 0.10786752, 0.10841967, 0.10768737, 0.10758715,\n",
       "        0.10894146, 0.107957  , 0.10882348, 0.10828885, 0.10725262,\n",
       "        0.10780605, 0.10741695, 0.10851045, 0.10792324, 0.10680406,\n",
       "        0.10865125, 0.10978606, 0.10860996, 0.10801932, 0.10963216,\n",
       "        0.10765424, 0.10812396, 0.10919974, 0.10872569, 0.10980034,\n",
       "        0.10822194, 0.10789251, 0.10790028, 0.10845482, 0.10795262,\n",
       "        0.10968842, 0.1101153 , 0.10819825, 0.1095961 , 0.10856171,\n",
       "        0.10853865, 0.10988029, 0.10866978, 0.10698168, 0.10800472,\n",
       "        0.1077116 , 0.10939661, 0.1077559 , 0.10842297, 0.10864545,\n",
       "        0.10741133, 0.10947543, 0.10723524, 0.10776513, 0.10869859,\n",
       "        0.10703049, 0.10877199, 0.1080323 , 0.10938535, 0.10851904,\n",
       "        0.10927313, 0.10845124, 0.10901042, 0.10824581, 0.10771363,\n",
       "        0.10820879, 0.1100565 , 0.10917399, 0.10708438, 0.1088693 ,\n",
       "        0.10746999, 0.10800466, 0.10840758, 0.10958864, 0.1092356 ,\n",
       "        0.10871486, 0.10959638, 0.10853444, 0.10910591, 0.10888583,\n",
       "        0.10780629, 0.10872374, 0.10723863, 0.10826634, 0.10738522,\n",
       "        0.10839426, 0.1077599 , 0.10957191, 0.10809712, 0.10904025,\n",
       "        0.10953489, 0.10858426, 0.10941147, 0.10816358, 0.10912967,\n",
       "        0.10800561, 0.10695165, 0.10861825, 0.10843702, 0.10759863,\n",
       "        0.10817242, 0.10916798, 0.1082223 , 0.10912466, 0.10865039,\n",
       "        0.10870471, 0.10824683, 0.10974363, 0.10687068, 0.10840615,\n",
       "        0.10770497, 0.10861185, 0.10855359, 0.10825072, 0.10810604,\n",
       "        0.10898922, 0.10787575, 0.10825298, 0.10889278, 0.10876664,\n",
       "        0.10785652, 0.10932496, 0.10940694, 0.10850487, 0.10733104,\n",
       "        0.10879351, 0.10671712, 0.10801322, 0.10919232, 0.1085019 ,\n",
       "        0.10893527, 0.11009066, 0.10814847, 0.10813928, 0.10992988,\n",
       "        0.10788516, 0.10993898, 0.10979301, 0.10815746, 0.10798801,\n",
       "        0.10860295, 0.10808583, 0.10988212, 0.10836532, 0.10827279,\n",
       "        0.10761637, 0.11000366, 0.10922842, 0.10867756, 0.10736363,\n",
       "        0.10820343, 0.10782093, 0.10914046, 0.10816863, 0.10896605,\n",
       "        0.10797254, 0.10830379, 0.10959601, 0.10822541, 0.1084658 ,\n",
       "        0.10930636, 0.10811423, 0.10844587, 0.10898384, 0.10966719,\n",
       "        0.10758087, 0.10952693, 0.10833918, 0.10961946, 0.1070463 ,\n",
       "        0.11017286, 0.10803866, 0.10881681, 0.10802304, 0.10998916,\n",
       "        0.1081956 , 0.10935356, 0.10769684, 0.10829967, 0.10686285,\n",
       "        0.10789329, 0.10930422, 0.10907965, 0.10933465, 0.10705079,\n",
       "        0.10882192, 0.10810059, 0.10684386, 0.10754238, 0.10678834,\n",
       "        0.10923154, 0.10905033, 0.10935673, 0.10920432, 0.10924045,\n",
       "        0.10927913, 0.10924734, 0.10751458, 0.10924566, 0.10821294,\n",
       "        0.10792863, 0.10919804, 0.10713325, 0.10736382, 0.10948146,\n",
       "        0.10841424, 0.11017025, 0.10945003, 0.10873425, 0.10844679,\n",
       "        0.10842893, 0.10778896, 0.1087407 , 0.10987646, 0.10957205,\n",
       "        0.10839292, 0.10818558, 0.10866944, 0.10807369, 0.10848146,\n",
       "        0.11012595, 0.10781303, 0.1093122 , 0.10814677, 0.10940641,\n",
       "        0.10852853, 0.10818898, 0.10888774, 0.10799651, 0.10864873,\n",
       "        0.10847572, 0.10933573, 0.10961064, 0.10875271, 0.10841638,\n",
       "        0.10838889, 0.10786377, 0.1078755 , 0.10779456, 0.10784495,\n",
       "        0.10676263, 0.10896828, 0.10766038, 0.10909251, 0.10794219,\n",
       "        0.10918567, 0.10894993, 0.10948532, 0.10681345, 0.10895837,\n",
       "        0.1078421 , 0.10841088, 0.10961671, 0.10835468, 0.10839618,\n",
       "        0.10760905, 0.1094989 , 0.10754068, 0.10912545, 0.10833152,\n",
       "        0.10741785, 0.1096343 , 0.10893612, 0.10840728, 0.10819719,\n",
       "        0.10911298, 0.10843939, 0.10769411, 0.10674994, 0.10898871,\n",
       "        0.1088166 , 0.10849731, 0.106915  , 0.10791439, 0.10864128,\n",
       "        0.10989134, 0.10797346, 0.10803798, 0.10783089, 0.10895723,\n",
       "        0.10997257, 0.10784606, 0.10778755, 0.10857173, 0.10705004,\n",
       "        0.10843073, 0.10823426, 0.10985524, 0.10883323, 0.1085962 ,\n",
       "        0.10795174, 0.10798602, 0.10756693, 0.10956059, 0.10998648,\n",
       "        0.10941128, 0.10953858, 0.10883657, 0.10815237, 0.10863588,\n",
       "        0.10909032, 0.10984398, 0.10869797, 0.10997463, 0.10812316,\n",
       "        0.10820136, 0.10743575, 0.10790105, 0.10725729, 0.10852795,\n",
       "        0.10877123, 0.10815149, 0.10815806, 0.10862516, 0.1081149 ,\n",
       "        0.10895375, 0.10844587, 0.1075407 , 0.10824098, 0.10758827,\n",
       "        0.10829672, 0.10796655, 0.10775314, 0.10896451, 0.10776585,\n",
       "        0.10862663, 0.10715169, 0.10841656, 0.10862086, 0.10940766,\n",
       "        0.10913045, 0.10793018, 0.10936232, 0.10817668, 0.10824043,\n",
       "        0.10853831, 0.10876891, 0.10828554, 0.10781687, 0.10770895,\n",
       "        0.10974984, 0.10697189, 0.10681516, 0.10943216, 0.10952576,\n",
       "        0.10782216, 0.10669062, 0.10820102, 0.10956112, 0.10860616,\n",
       "        0.10753104, 0.10687365, 0.1073696 , 0.10923018, 0.10834155,\n",
       "        0.10790879, 0.10882331, 0.10717493, 0.10940805, 0.10853316,\n",
       "        0.1082721 , 0.10703384, 0.10870741, 0.10843487, 0.10837143,\n",
       "        0.1080675 , 0.10871269, 0.10969038, 0.10794629, 0.10827488,\n",
       "        0.10881683, 0.10795634, 0.10727796, 0.10872583, 0.1091681 ,\n",
       "        0.10826635, 0.10778561, 0.10679976, 0.10895154, 0.10676034,\n",
       "        0.1080614 , 0.10793384, 0.10789566, 0.1074225 , 0.10881154,\n",
       "        0.10958514, 0.10781957, 0.10826213, 0.10775516, 0.10803299,\n",
       "        0.10863856, 0.10852265, 0.10872103, 0.10827643, 0.10854525,\n",
       "        0.10883874, 0.10840271, 0.10818856, 0.10717925, 0.10921376,\n",
       "        0.10929609, 0.1093525 , 0.10686711, 0.10751146, 0.10883358,\n",
       "        0.10742952, 0.10989327, 0.10778879, 0.10759266, 0.10843642,\n",
       "        0.10877849, 0.10796864, 0.10838548, 0.10691567, 0.10929791,\n",
       "        0.10777819, 0.10911858, 0.10867316, 0.10763177, 0.10809014,\n",
       "        0.10892511, 0.1087902 , 0.10906504, 0.10864822, 0.10894306,\n",
       "        0.11008472, 0.10869532, 0.10885378, 0.10737639, 0.10734441,\n",
       "        0.10856387, 0.10804111, 0.10832644, 0.10781592, 0.1087312 ,\n",
       "        0.10853988, 0.10895703, 0.10801579, 0.107712  , 0.10851233,\n",
       "        0.10673981, 0.10857027, 0.10743265, 0.10802551, 0.10726348,\n",
       "        0.1084084 , 0.11001039, 0.10823512, 0.10859586, 0.10917993,\n",
       "        0.10843162, 0.1095025 , 0.10843752, 0.10819313, 0.10708922,\n",
       "        0.10739507, 0.10786996, 0.10702422, 0.10834212, 0.10810859,\n",
       "        0.10920942, 0.10815351, 0.10800003, 0.10884536, 0.10867298,\n",
       "        0.10833101, 0.10797338, 0.10995666, 0.10854552, 0.10970333,\n",
       "        0.10703404, 0.10725911, 0.10869548, 0.11008072, 0.10831321,\n",
       "        0.10940726, 0.10807168, 0.10869569, 0.10769788, 0.1082971 ,\n",
       "        0.10865455, 0.1069469 , 0.1100727 , 0.1086997 , 0.10915094,\n",
       "        0.10894008, 0.10962802, 0.10840776, 0.10849798, 0.10861973,\n",
       "        0.10807715, 0.10860535, 0.10837399, 0.10762245, 0.10875908,\n",
       "        0.1073225 , 0.10683572, 0.10936375, 0.10668015, 0.10869125,\n",
       "        0.10719651, 0.10875362, 0.10774438, 0.10762304, 0.10799704,\n",
       "        0.10854235, 0.10847543, 0.1092709 , 0.10980252, 0.10768684,\n",
       "        0.10813519, 0.10941552, 0.10882753, 0.10802891, 0.10737062,\n",
       "        0.10834536, 0.10839152, 0.10777405, 0.10767871, 0.10841394,\n",
       "        0.10799387, 0.10820445, 0.10825548, 0.10675045, 0.10853336,\n",
       "        0.10981766, 0.10837913, 0.10733076, 0.10735127, 0.10848467,\n",
       "        0.10805172, 0.10940086, 0.10754045, 0.11012001, 0.10952585,\n",
       "        0.10739859, 0.10822821, 0.11002613, 0.10872524, 0.10894698]),\n",
       " array([0.15513877, 0.15835938, 0.15615897, 0.15539778, 0.15737047,\n",
       "        0.16294885, 0.15723794, 0.15551225, 0.1654089 , 0.17537615,\n",
       "        0.15518947, 0.16217605, 0.16021112, 0.17209497, 0.15993105,\n",
       "        0.15504097, 0.16865185, 0.15516654, 0.15527791, 0.15563816,\n",
       "        0.15522216, 0.15517475, 0.16236916, 0.15898051, 0.16562996,\n",
       "        0.1607752 , 0.1562733 , 0.15502938, 0.15569099, 0.15525097,\n",
       "        0.15590039, 0.15533291, 0.15895807, 0.15712068, 0.16319703,\n",
       "        0.15518773, 0.15504379, 0.15813014, 0.15803615, 0.16029221,\n",
       "        0.16163091, 0.17014617, 0.15503549, 0.1559441 , 0.16842129,\n",
       "        0.1561918 , 0.15510484, 0.15563437, 0.15551206, 0.15605357,\n",
       "        0.15508634, 0.15506827, 0.15502844, 0.16341828, 0.15509727,\n",
       "        0.15529351, 0.1673446 , 0.15882759, 0.1553084 , 0.15724537,\n",
       "        0.15509107, 0.16911661, 0.16692844, 0.15934553, 0.15504297,\n",
       "        0.15591448, 0.15614203, 0.16630058, 0.16099309, 0.16710774,\n",
       "        0.15506047, 0.15516976, 0.16002397, 0.16084263, 0.16926994,\n",
       "        0.15945096, 0.1550314 , 0.15704704, 0.15727818, 0.15533903,\n",
       "        0.15537284, 0.15803174, 0.1552737 , 0.17469408, 0.16705163,\n",
       "        0.15571855, 0.15583019, 0.15563676, 0.15902895, 0.15509539,\n",
       "        0.1552194 , 0.15713023, 0.15780627, 0.15535157, 0.17490262,\n",
       "        0.16792589, 0.16949095, 0.15506304, 0.15583287, 0.15861053,\n",
       "        0.15518205, 0.15503554, 0.16131797, 0.16135887, 0.15815246,\n",
       "        0.15505195, 0.15664621, 0.15534946, 0.15622982, 0.15546452,\n",
       "        0.16953735, 0.16828718, 0.15520897, 0.16227795, 0.16011709,\n",
       "        0.15867525, 0.16679904, 0.15720623, 0.15509658, 0.15963829,\n",
       "        0.16343781, 0.15507909, 0.15502974, 0.16491133, 0.15733511,\n",
       "        0.15620736, 0.15906811, 0.15504028, 0.15726412, 0.15515969,\n",
       "        0.15907507, 0.16740902, 0.15506492, 0.16011668, 0.17072906,\n",
       "        0.16756979, 0.17411817, 0.15507139, 0.15825013, 0.15505101,\n",
       "        0.15770865, 0.15510743, 0.15508845, 0.17005664, 0.16643327,\n",
       "        0.1568158 , 0.15798861, 0.16298534, 0.15567811, 0.1550277 ,\n",
       "        0.15515537, 0.15672001, 0.15505855, 0.16806345, 0.15563733,\n",
       "        0.15612818, 0.1627827 , 0.15868586, 0.16975249, 0.15977824,\n",
       "        0.1578404 , 0.16936475, 0.15564862, 0.15502927, 0.15511275,\n",
       "        0.15502749, 0.15508861, 0.15506358, 0.161554  , 0.15666099,\n",
       "        0.16705133, 0.15657735, 0.15906065, 0.1717261 , 0.15524293,\n",
       "        0.15505145, 0.1555984 , 0.15552232, 0.16175784, 0.17485467,\n",
       "        0.15912769, 0.16262959, 0.15546771, 0.16016476, 0.1708145 ,\n",
       "        0.15830329, 0.15620226, 0.15553391, 0.16591702, 0.15705866,\n",
       "        0.15648473, 0.15951639, 0.16627679, 0.1578233 , 0.15616935,\n",
       "        0.15564063, 0.1631528 , 0.15760064, 0.17013158, 0.1714448 ,\n",
       "        0.16195992, 0.1552953 , 0.15990586, 0.15592324, 0.17199941,\n",
       "        0.15824639, 0.15878341, 0.15608836, 0.16091594, 0.16369768,\n",
       "        0.15505251, 0.1579253 , 0.15730027, 0.17029161, 0.15602718,\n",
       "        0.15858566, 0.1550521 , 0.15538295, 0.16998863, 0.15518918,\n",
       "        0.15966301, 0.16147315, 0.16050927, 0.15647597, 0.15772568,\n",
       "        0.15559334, 0.16664745, 0.16248966, 0.15503645, 0.15522193,\n",
       "        0.16242534, 0.15627499, 0.1591215 , 0.15862958, 0.16435942,\n",
       "        0.15715523, 0.16157584, 0.15546053, 0.15510875, 0.15625276,\n",
       "        0.15503272, 0.15919246, 0.15507625, 0.16815628, 0.15696747,\n",
       "        0.15572189, 0.15503541, 0.1603474 , 0.15721247, 0.15528843,\n",
       "        0.16925907, 0.15586072, 0.1680901 , 0.15517191, 0.15859071,\n",
       "        0.15574617, 0.15504777, 0.15578792, 0.16060681, 0.16532003,\n",
       "        0.15532406, 0.15615523, 0.15698237, 0.15593904, 0.15541582,\n",
       "        0.16355118, 0.15692945, 0.16405191, 0.1550549 , 0.16420335,\n",
       "        0.16725888, 0.15744282, 0.15504458, 0.15774563, 0.15535696,\n",
       "        0.15503239, 0.15507744, 0.16693296, 0.15812315, 0.15503818,\n",
       "        0.15586171, 0.15874706, 0.1610156 , 0.15511227, 0.1663497 ,\n",
       "        0.15503127, 0.1561595 , 0.16469672, 0.15767397, 0.15596672,\n",
       "        0.15735035, 0.15502778, 0.16162618, 0.15652954, 0.15953248,\n",
       "        0.16211681, 0.15525998, 0.15810473, 0.15598314, 0.15770371,\n",
       "        0.15943905, 0.15511876, 0.15980981, 0.16169991, 0.15962777,\n",
       "        0.1566743 , 0.15946124, 0.15504509, 0.16747283, 0.15927767,\n",
       "        0.16866836, 0.15696353, 0.1556511 , 0.1565919 , 0.15505469,\n",
       "        0.15506233, 0.15615217, 0.1576547 , 0.15924896, 0.15553267,\n",
       "        0.1636242 , 0.15507491, 0.16551995, 0.15597857, 0.16252978,\n",
       "        0.15959386, 0.15888309, 0.15546116, 0.1605741 , 0.15506831,\n",
       "        0.16027938, 0.15513239, 0.16695256, 0.15955658, 0.16545648,\n",
       "        0.15502949, 0.16317661, 0.15576353, 0.15556429, 0.15698904,\n",
       "        0.1567953 , 0.15719339, 0.16524226, 0.15778458, 0.16175136,\n",
       "        0.16075393, 0.15502831, 0.15626005, 0.17062868, 0.15747358,\n",
       "        0.15504334, 0.1572729 , 0.15536089, 0.15753118, 0.1615538 ,\n",
       "        0.15688176, 0.15800342, 0.16056249, 0.1641801 , 0.15803893,\n",
       "        0.1561594 , 0.15555559, 0.16514029, 0.17523634, 0.17441579,\n",
       "        0.16776028, 0.15963013, 0.1657933 , 0.16771446, 0.16536203,\n",
       "        0.15635934, 0.16304636, 0.16044531, 0.16172225, 0.15752258,\n",
       "        0.15802025, 0.15513709, 0.16025097, 0.15893947, 0.15633729,\n",
       "        0.15517063, 0.15563627, 0.15999547, 0.17210897, 0.15587753,\n",
       "        0.1580037 , 0.15782168, 0.155102  , 0.16116052, 0.15585049,\n",
       "        0.16655436, 0.15505725, 0.17473686, 0.15503414, 0.15614786,\n",
       "        0.15547589, 0.15503989, 0.15702889, 0.1553421 , 0.15502899,\n",
       "        0.15890225, 0.15622146, 0.15508742, 0.15670792, 0.15524981,\n",
       "        0.16628268, 0.15713217, 0.15541941, 0.16757212, 0.15503063,\n",
       "        0.17208044, 0.15513315, 0.15958852, 0.15861296, 0.15911835,\n",
       "        0.15516673, 0.15997821, 0.15786788, 0.15983512, 0.16034816,\n",
       "        0.15688751, 0.1683287 , 0.15597488, 0.15534175, 0.15505596,\n",
       "        0.17059772, 0.17029553, 0.1752552 , 0.16383441, 0.1732039 ,\n",
       "        0.16466879, 0.16050977, 0.15901693, 0.15502924, 0.15578688,\n",
       "        0.16907459, 0.16033441, 0.15547937, 0.15584463, 0.16129243,\n",
       "        0.16211944, 0.15662231, 0.15516921, 0.16022799, 0.15699543,\n",
       "        0.15513531, 0.15503175, 0.15551827, 0.15574961, 0.15785839,\n",
       "        0.16226296, 0.15936407, 0.15871838, 0.15548238, 0.17387421,\n",
       "        0.15590939, 0.15569523, 0.16117532, 0.15873805, 0.15582533,\n",
       "        0.15533655, 0.16857504, 0.16696975, 0.15520598, 0.15513301,\n",
       "        0.15579749, 0.15778749, 0.15510274, 0.15947353, 0.16057692,\n",
       "        0.15611193, 0.15709525, 0.15558191, 0.15539276, 0.1650795 ,\n",
       "        0.15831923, 0.1627134 , 0.1550295 , 0.15734497, 0.17295036,\n",
       "        0.15512376, 0.16480611, 0.15506993, 0.15667095, 0.16261143,\n",
       "        0.1598253 , 0.1560667 , 0.15787576, 0.15527562, 0.16502253,\n",
       "        0.15562497, 0.15758433, 0.15752276, 0.15506192, 0.1571268 ,\n",
       "        0.16338382, 0.17033145, 0.15572072, 0.16213471, 0.15503455,\n",
       "        0.15502813, 0.16627458, 0.15515496, 0.16959684, 0.15676604,\n",
       "        0.1592243 , 0.15976247, 0.15878667, 0.15509824, 0.15511489,\n",
       "        0.16278944, 0.16064545, 0.16534656, 0.15869832, 0.15521218,\n",
       "        0.16872849, 0.15540554, 0.1565886 , 0.15964219, 0.15502801,\n",
       "        0.1585252 , 0.15506535, 0.15650237, 0.15553563, 0.15920382,\n",
       "        0.15567723, 0.16926498, 0.15766325, 0.16779718, 0.155767  ,\n",
       "        0.16201261, 0.15676649, 0.15512042, 0.16203778, 0.15818505,\n",
       "        0.15524912, 0.16213837, 0.15502769, 0.15714022, 0.15584023,\n",
       "        0.15831708, 0.15527073, 0.16529415, 0.15546455, 0.16314747,\n",
       "        0.15514205, 0.15874827, 0.16182291, 0.15620874, 0.15668953,\n",
       "        0.16135869, 0.15504739, 0.15992339, 0.15587356, 0.15731635,\n",
       "        0.15676019, 0.17014273, 0.155079  , 0.15508063, 0.16044462,\n",
       "        0.15583318, 0.1576148 , 0.15562354, 0.15727862, 0.15512241,\n",
       "        0.15522567, 0.15553199, 0.16417544, 0.17165769, 0.15512263,\n",
       "        0.1592918 , 0.15507191, 0.15503152, 0.15551817, 0.15616053,\n",
       "        0.15637605, 0.15771975, 0.1555102 , 0.15587207, 0.15538915,\n",
       "        0.15787932, 0.1590226 , 0.15987409, 0.15503097, 0.16391401,\n",
       "        0.15547519, 0.17469827, 0.15671038, 0.15781365, 0.15503191,\n",
       "        0.15607981, 0.16988032, 0.15594493, 0.1559897 , 0.1670844 ,\n",
       "        0.15764331, 0.16723577, 0.16491117, 0.15590211, 0.15687815,\n",
       "        0.15506295, 0.15627112, 0.16630392, 0.15519683, 0.15544334,\n",
       "        0.16024317, 0.16833552, 0.15812187, 0.15516937, 0.16344899,\n",
       "        0.15569919, 0.15818635, 0.15739858, 0.15585039, 0.15624439,\n",
       "        0.15698496, 0.15534865, 0.16213352, 0.15561152, 0.1550524 ,\n",
       "        0.15884041, 0.15611714, 0.15507082, 0.15634489, 0.16308825,\n",
       "        0.16064983, 0.16126084, 0.15525545, 0.1624418 , 0.16845224,\n",
       "        0.17140758, 0.15654908, 0.15555719, 0.15664718, 0.16808527,\n",
       "        0.15573188, 0.1593107 , 0.15937529, 0.15536054, 0.17180733,\n",
       "        0.15757814, 0.15881978, 0.15695361, 0.15911917, 0.16837423,\n",
       "        0.15557607, 0.15618986, 0.17217304, 0.1611072 , 0.17326134,\n",
       "        0.15814924, 0.15675531, 0.15934323, 0.15791439, 0.158228  ,\n",
       "        0.15858112, 0.15828963, 0.16144793, 0.15827456, 0.15566051,\n",
       "        0.15730416, 0.15786147, 0.16697768, 0.16344643, 0.16071587,\n",
       "        0.15511046, 0.17135805, 0.16035301, 0.15529758, 0.15506986,\n",
       "        0.15509046, 0.15847514, 0.15531475, 0.16621309, 0.1618248 ,\n",
       "        0.15514436, 0.15577481, 0.15515435, 0.15634003, 0.15504147,\n",
       "        0.17052808, 0.15825657, 0.15889722, 0.15595311, 0.15986836,\n",
       "        0.15502746, 0.1557601 , 0.15584892, 0.15682068, 0.15511985,\n",
       "        0.15504511, 0.15912996, 0.16232516, 0.15534813, 0.15510737,\n",
       "        0.15515141, 0.1578186 , 0.15772184, 0.15842367, 0.15797748,\n",
       "        0.17377478, 0.15625676, 0.15975918, 0.15704398, 0.15720307,\n",
       "        0.15775862, 0.15615672, 0.16076126, 0.17276568, 0.15620222,\n",
       "        0.15800192, 0.15511541, 0.16240539, 0.15521964, 0.15513879,\n",
       "        0.16032587, 0.16092207, 0.16112778, 0.15728456, 0.15527428,\n",
       "        0.16270115, 0.16264015, 0.15608419, 0.15512089, 0.15572516,\n",
       "        0.15719191, 0.1550779 , 0.15940355, 0.17403036, 0.15637309,\n",
       "        0.15555642, 0.1550336 , 0.17082073, 0.15741271, 0.15510877,\n",
       "        0.16645278, 0.15697852, 0.15655323, 0.15809886, 0.156196  ,\n",
       "        0.16780163, 0.15796796, 0.15848815, 0.15503946, 0.16838721,\n",
       "        0.15508821, 0.15557795, 0.16587508, 0.15561907, 0.15505682,\n",
       "        0.15713322, 0.15689174, 0.16081353, 0.16167932, 0.16803931,\n",
       "        0.15992133, 0.16140427, 0.15563208, 0.15592621, 0.15510118,\n",
       "        0.15702839, 0.16569776, 0.15521084, 0.16783669, 0.15607083,\n",
       "        0.15570776, 0.16246148, 0.15751666, 0.16500813, 0.15502746,\n",
       "        0.1554032 , 0.15593045, 0.15589932, 0.15508721, 0.15611366,\n",
       "        0.15617721, 0.15507082, 0.16112753, 0.15555312, 0.16056394,\n",
       "        0.15536918, 0.15702711, 0.15881327, 0.15623588, 0.15869155,\n",
       "        0.15508904, 0.16667486, 0.15510711, 0.15508203, 0.15988189,\n",
       "        0.15732221, 0.15729249, 0.1594009 , 0.15581405, 0.15555513,\n",
       "        0.15502809, 0.15539606, 0.15540292, 0.1582224 , 0.15925126,\n",
       "        0.16426657, 0.16977389, 0.17273203, 0.16015183, 0.16124651,\n",
       "        0.15817551, 0.17524473, 0.15570917, 0.16168598, 0.15506607,\n",
       "        0.16124513, 0.17160094, 0.16336514, 0.15813732, 0.15524978,\n",
       "        0.15745613, 0.15558128, 0.16629808, 0.15988614, 0.1550276 ,\n",
       "        0.15544559, 0.1686698 , 0.15523179, 0.15508316, 0.15518437,\n",
       "        0.15637585, 0.15524401, 0.16341146, 0.15717295, 0.15543657,\n",
       "        0.15555725, 0.15709999, 0.16469566, 0.15527596, 0.15761581,\n",
       "        0.15546453, 0.15850618, 0.17303513, 0.15616533, 0.17382073,\n",
       "        0.15641159, 0.15726506, 0.15755928, 0.1626386 , 0.15553802,\n",
       "        0.16199257, 0.15819843, 0.15547871, 0.15879374, 0.15658431,\n",
       "        0.1551049 , 0.15502766, 0.15526402, 0.15543159, 0.15502928,\n",
       "        0.15564063, 0.15512807, 0.1557619 , 0.16622868, 0.15799482,\n",
       "        0.15874166, 0.15929989, 0.17172593, 0.16148666, 0.15562044,\n",
       "        0.16254444, 0.16648405, 0.15847669, 0.16051322, 0.15508133,\n",
       "        0.15542595, 0.15701232, 0.15515755, 0.17080829, 0.15875905,\n",
       "        0.1585752 , 0.15723327, 0.15516113, 0.1600712 , 0.15624713,\n",
       "        0.15602808, 0.1554641 , 0.15685347, 0.15511907, 0.15612035,\n",
       "        0.16977248, 0.15520514, 0.15570135, 0.16327017, 0.16372181,\n",
       "        0.1550355 , 0.15653396, 0.15528718, 0.15823086, 0.15528963,\n",
       "        0.15502831, 0.15619492, 0.15669371, 0.15922032, 0.15502909,\n",
       "        0.17423554, 0.15503867, 0.16250276, 0.15663146, 0.16491407,\n",
       "        0.15511916, 0.16845239, 0.15557476, 0.15505652, 0.15771158,\n",
       "        0.1550871 , 0.16096518, 0.15508004, 0.15574235, 0.16771482,\n",
       "        0.16301147, 0.15776733, 0.16883876, 0.15524843, 0.15614696,\n",
       "        0.15795772, 0.15592081, 0.15679715, 0.15566699, 0.15516081,\n",
       "        0.15527557, 0.15697907, 0.16753219, 0.15502934, 0.16359433,\n",
       "        0.16866618, 0.16498043, 0.15520548, 0.16970017, 0.15532229,\n",
       "        0.15987758, 0.15635157, 0.15520593, 0.15936456, 0.15536806,\n",
       "        0.15512899, 0.17022983, 0.16955535, 0.15521458, 0.15747982,\n",
       "        0.15610476, 0.162556  , 0.15512015, 0.15503333, 0.1550807 ,\n",
       "        0.15632021, 0.15506526, 0.1551793 , 0.16017498, 0.15536659,\n",
       "        0.16403766, 0.17233075, 0.15941569, 0.17546234, 0.15519659,\n",
       "        0.1659532 , 0.15535074, 0.15889825, 0.16016842, 0.15681714,\n",
       "        0.15502871, 0.15504531, 0.15850454, 0.16505591, 0.15947909,\n",
       "        0.15600997, 0.15996775, 0.15559722, 0.15660994, 0.16335087,\n",
       "        0.15524081, 0.15514678, 0.15861402, 0.15956426, 0.15511089,\n",
       "        0.15683845, 0.15569496, 0.15550151, 0.17402004, 0.15502762,\n",
       "        0.1652882 , 0.15516936, 0.16391802, 0.16362399, 0.15503962,\n",
       "        0.15646932, 0.15980823, 0.1611305 , 0.17041831, 0.16124757,\n",
       "        0.16296314, 0.15560079, 0.16872733, 0.15527448, 0.156141  ]))"
      ]
     },
     "execution_count": 44,
     "metadata": {},
     "output_type": "execute_result"
    }
   ],
   "source": [
    "pfolio_returns = []\n",
    "pfolio_volatilities = []\n",
    "\n",
    "for x in range(1000):\n",
    "    weights = np.random.random(num_assets)\n",
    "    weights /= np.sum(weights)\n",
    "    pfolio_returns.append(np.sum(weights * log_returns.mean()) * 250)\n",
    "    pfolio_volatilities.append(np.sqrt(np.dot(weights.T, np.dot(log_returns.cov() * 250, weights))))\n",
    "\n",
    "pfolio_returns = np.array(pfolio_returns)\n",
    "pfolio_volatilities = np.array(pfolio_volatilities)\n",
    "\n",
    "pfolio_returns, pfolio_volatilities"
   ]
  },
  {
   "cell_type": "code",
   "execution_count": null,
   "metadata": {},
   "outputs": [],
   "source": []
  },
  {
   "cell_type": "code",
   "execution_count": 46,
   "metadata": {},
   "outputs": [],
   "source": [
    "portfolios = pd.DataFrame({\"Return\": pfolio_returns, \"Volatility\": pfolio_volatilities})"
   ]
  },
  {
   "cell_type": "code",
   "execution_count": 47,
   "metadata": {},
   "outputs": [
    {
     "data": {
      "text/html": [
       "<div>\n",
       "<style scoped>\n",
       "    .dataframe tbody tr th:only-of-type {\n",
       "        vertical-align: middle;\n",
       "    }\n",
       "\n",
       "    .dataframe tbody tr th {\n",
       "        vertical-align: top;\n",
       "    }\n",
       "\n",
       "    .dataframe thead th {\n",
       "        text-align: right;\n",
       "    }\n",
       "</style>\n",
       "<table border=\"1\" class=\"dataframe\">\n",
       "  <thead>\n",
       "    <tr style=\"text-align: right;\">\n",
       "      <th></th>\n",
       "      <th>Return</th>\n",
       "      <th>Volatility</th>\n",
       "    </tr>\n",
       "  </thead>\n",
       "  <tbody>\n",
       "    <tr>\n",
       "      <th>0</th>\n",
       "      <td>0.108660</td>\n",
       "      <td>0.155139</td>\n",
       "    </tr>\n",
       "    <tr>\n",
       "      <th>1</th>\n",
       "      <td>0.107802</td>\n",
       "      <td>0.158359</td>\n",
       "    </tr>\n",
       "    <tr>\n",
       "      <th>2</th>\n",
       "      <td>0.108950</td>\n",
       "      <td>0.156159</td>\n",
       "    </tr>\n",
       "    <tr>\n",
       "      <th>3</th>\n",
       "      <td>0.108287</td>\n",
       "      <td>0.155398</td>\n",
       "    </tr>\n",
       "    <tr>\n",
       "      <th>4</th>\n",
       "      <td>0.109137</td>\n",
       "      <td>0.157370</td>\n",
       "    </tr>\n",
       "  </tbody>\n",
       "</table>\n",
       "</div>"
      ],
      "text/plain": [
       "     Return  Volatility\n",
       "0  0.108660    0.155139\n",
       "1  0.107802    0.158359\n",
       "2  0.108950    0.156159\n",
       "3  0.108287    0.155398\n",
       "4  0.109137    0.157370"
      ]
     },
     "execution_count": 47,
     "metadata": {},
     "output_type": "execute_result"
    }
   ],
   "source": [
    "portfolios.head()"
   ]
  },
  {
   "cell_type": "code",
   "execution_count": 48,
   "metadata": {},
   "outputs": [
    {
     "data": {
      "text/html": [
       "<div>\n",
       "<style scoped>\n",
       "    .dataframe tbody tr th:only-of-type {\n",
       "        vertical-align: middle;\n",
       "    }\n",
       "\n",
       "    .dataframe tbody tr th {\n",
       "        vertical-align: top;\n",
       "    }\n",
       "\n",
       "    .dataframe thead th {\n",
       "        text-align: right;\n",
       "    }\n",
       "</style>\n",
       "<table border=\"1\" class=\"dataframe\">\n",
       "  <thead>\n",
       "    <tr style=\"text-align: right;\">\n",
       "      <th></th>\n",
       "      <th>Return</th>\n",
       "      <th>Volatility</th>\n",
       "    </tr>\n",
       "  </thead>\n",
       "  <tbody>\n",
       "    <tr>\n",
       "      <th>995</th>\n",
       "      <td>0.107399</td>\n",
       "      <td>0.162963</td>\n",
       "    </tr>\n",
       "    <tr>\n",
       "      <th>996</th>\n",
       "      <td>0.108228</td>\n",
       "      <td>0.155601</td>\n",
       "    </tr>\n",
       "    <tr>\n",
       "      <th>997</th>\n",
       "      <td>0.110026</td>\n",
       "      <td>0.168727</td>\n",
       "    </tr>\n",
       "    <tr>\n",
       "      <th>998</th>\n",
       "      <td>0.108725</td>\n",
       "      <td>0.155274</td>\n",
       "    </tr>\n",
       "    <tr>\n",
       "      <th>999</th>\n",
       "      <td>0.108947</td>\n",
       "      <td>0.156141</td>\n",
       "    </tr>\n",
       "  </tbody>\n",
       "</table>\n",
       "</div>"
      ],
      "text/plain": [
       "       Return  Volatility\n",
       "995  0.107399    0.162963\n",
       "996  0.108228    0.155601\n",
       "997  0.110026    0.168727\n",
       "998  0.108725    0.155274\n",
       "999  0.108947    0.156141"
      ]
     },
     "execution_count": 48,
     "metadata": {},
     "output_type": "execute_result"
    }
   ],
   "source": [
    "portfolios.tail()"
   ]
  },
  {
   "cell_type": "code",
   "execution_count": 50,
   "metadata": {},
   "outputs": [
    {
     "data": {
      "text/plain": [
       "Text(0, 0.5, 'Expected Return')"
      ]
     },
     "execution_count": 50,
     "metadata": {},
     "output_type": "execute_result"
    },
    {
     "data": {
      "image/png": "[encoded data removed]",
      "text/plain": [
       "<Figure size 720x432 with 1 Axes>"
      ]
     },
     "metadata": {
      "needs_background": "light"
     },
     "output_type": "display_data"
    }
   ],
   "source": [
    "portfolios.plot(x=\"Volatility\", y=\"Return\", kind=\"scatter\", figsize=(10, 6))\n",
    "plt.xlabel(\"Expected Volatility\")\n",
    "plt.ylabel(\"Expected Return\")"
   ]
  },
  {
   "cell_type": "code",
   "execution_count": null,
   "metadata": {},
   "outputs": [],
   "source": []
  }
 ],
 "metadata": {
  "kernelspec": {
   "display_name": "Python 3",
   "language": "python",
   "name": "python3"
  },
  "language_info": {
   "codemirror_mode": {
    "name": "ipython",
    "version": 3
   },
   "file_extension": ".py",
   "mimetype": "text/x-python",
   "name": "python",
   "nbconvert_exporter": "python",
   "pygments_lexer": "ipython3",
   "version": "3.8.3"
  }
 },
 "nbformat": 4,
 "nbformat_minor": 4
}
